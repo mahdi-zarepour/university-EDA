{
 "cells": [
  {
   "cell_type": "code",
   "execution_count": 48,
   "id": "859b5e52",
   "metadata": {},
   "outputs": [],
   "source": [
    "import pandas as pd\n",
    "import numpy as np"
   ]
  },
  {
   "cell_type": "markdown",
   "id": "91915dc7",
   "metadata": {},
   "source": [
    "## <font color='orange'>exersice 1</font>"
   ]
  },
  {
   "cell_type": "code",
   "execution_count": 3,
   "id": "d7b62018",
   "metadata": {},
   "outputs": [],
   "source": [
    "sleep_data = np.array(\n",
    "    [\n",
    "        6, 9, 6, 6, 7, 8, 8, 10, 11, 7, 10, 9, 7, 8, 10,\n",
    "        6, 5, 9, 11, 6, 6, 10, 8, 6, 8, 7, 12, 8, 8, 12,\n",
    "        5, 10, 6, 7, 7, 6,\n",
    "    ],\n",
    ")"
   ]
  },
  {
   "cell_type": "code",
   "execution_count": 10,
   "id": "e7df0124",
   "metadata": {},
   "outputs": [
    {
     "data": {
      "text/plain": [
       "1.6"
      ]
     },
     "execution_count": 10,
     "metadata": {},
     "output_type": "execute_result"
    }
   ],
   "source": [
    "k = 5\n",
    "r = sleep_data.max() - sleep_data.min()\n",
    "c = (r + 1) / k"
   ]
  },
  {
   "cell_type": "code",
   "execution_count": 31,
   "id": "ac16dd6a",
   "metadata": {},
   "outputs": [
    {
     "data": {
      "text/plain": [
       "data\n",
       "5       2\n",
       "6       9\n",
       "7       6\n",
       "8       7\n",
       "9       3\n",
       "10      5\n",
       "11      2\n",
       "12      2\n",
       "dtype: int64"
      ]
     },
     "execution_count": 31,
     "metadata": {},
     "output_type": "execute_result"
    }
   ],
   "source": [
    "sleep_df = pd.DataFrame(data=sleep_data, columns=['data'])\n",
    "sleep_df.value_counts().sort_index()"
   ]
  },
  {
   "cell_type": "code",
   "execution_count": 56,
   "id": "4b19cc99",
   "metadata": {},
   "outputs": [
    {
     "data": {
      "text/html": [
       "<div>\n",
       "<style scoped>\n",
       "    .dataframe tbody tr th:only-of-type {\n",
       "        vertical-align: middle;\n",
       "    }\n",
       "\n",
       "    .dataframe tbody tr th {\n",
       "        vertical-align: top;\n",
       "    }\n",
       "\n",
       "    .dataframe thead th {\n",
       "        text-align: right;\n",
       "    }\n",
       "</style>\n",
       "<table border=\"1\" class=\"dataframe\">\n",
       "  <thead>\n",
       "    <tr style=\"text-align: right;\">\n",
       "      <th></th>\n",
       "      <th>4.5-6.1</th>\n",
       "      <th>6.1-7.7</th>\n",
       "      <th>7.7-9.3</th>\n",
       "      <th>9.3-10.9</th>\n",
       "      <th>10.9-12.5</th>\n",
       "    </tr>\n",
       "  </thead>\n",
       "  <tbody>\n",
       "    <tr>\n",
       "      <th>0</th>\n",
       "      <td>11</td>\n",
       "      <td>6</td>\n",
       "      <td>10</td>\n",
       "      <td>5</td>\n",
       "      <td>4</td>\n",
       "    </tr>\n",
       "  </tbody>\n",
       "</table>\n",
       "</div>"
      ],
      "text/plain": [
       "   4.5-6.1  6.1-7.7  7.7-9.3  9.3-10.9  10.9-12.5\n",
       "0       11        6       10         5          4"
      ]
     },
     "execution_count": 56,
     "metadata": {},
     "output_type": "execute_result"
    }
   ],
   "source": [
    "frequency_data = [\n",
    "    {\n",
    "        '4.5-6.1':11,\n",
    "        '6.1-7.7': 6,\n",
    "        '7.7-9.3': 10,\n",
    "        '9.3-10.9': 5,\n",
    "        '10.9-12.5': 4,\n",
    "    }\n",
    "]\n",
    "\n",
    "frequency_df = pd.DataFrame(data=frequency_data)\n",
    "frequency_df"
   ]
  },
  {
   "cell_type": "code",
   "execution_count": null,
   "id": "08c12fc5",
   "metadata": {},
   "outputs": [],
   "source": []
  }
 ],
 "metadata": {
  "kernelspec": {
   "display_name": "Python 3 (ipykernel)",
   "language": "python",
   "name": "python3"
  },
  "language_info": {
   "codemirror_mode": {
    "name": "ipython",
    "version": 3
   },
   "file_extension": ".py",
   "mimetype": "text/x-python",
   "name": "python",
   "nbconvert_exporter": "python",
   "pygments_lexer": "ipython3",
   "version": "3.10.5"
  }
 },
 "nbformat": 4,
 "nbformat_minor": 5
}
