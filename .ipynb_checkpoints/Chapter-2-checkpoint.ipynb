{
 "cells": [
  {
   "cell_type": "code",
   "execution_count": 1,
   "id": "ffe4b025",
   "metadata": {},
   "outputs": [],
   "source": [
    "import pandas as pd\n",
    "import numpy as np"
   ]
  },
  {
   "cell_type": "markdown",
   "id": "d8407811",
   "metadata": {},
   "source": [
    "# Chapter 2, example 6"
   ]
  },
  {
   "cell_type": "code",
   "execution_count": 23,
   "id": "74477de6",
   "metadata": {},
   "outputs": [
    {
     "data": {
      "text/html": [
       "<div>\n",
       "<style scoped>\n",
       "    .dataframe tbody tr th:only-of-type {\n",
       "        vertical-align: middle;\n",
       "    }\n",
       "\n",
       "    .dataframe tbody tr th {\n",
       "        vertical-align: top;\n",
       "    }\n",
       "\n",
       "    .dataframe thead th {\n",
       "        text-align: right;\n",
       "    }\n",
       "</style>\n",
       "<table border=\"1\" class=\"dataframe\">\n",
       "  <thead>\n",
       "    <tr style=\"text-align: right;\">\n",
       "      <th></th>\n",
       "      <th>AF</th>\n",
       "      <th>CF</th>\n",
       "      <th>RF</th>\n",
       "      <th>CRF</th>\n",
       "    </tr>\n",
       "  </thead>\n",
       "  <tbody>\n",
       "    <tr>\n",
       "      <th>1</th>\n",
       "      <td>4.0</td>\n",
       "      <td>4.0</td>\n",
       "      <td>0.20</td>\n",
       "      <td>0.20</td>\n",
       "    </tr>\n",
       "    <tr>\n",
       "      <th>2</th>\n",
       "      <td>6.0</td>\n",
       "      <td>10.0</td>\n",
       "      <td>0.30</td>\n",
       "      <td>0.50</td>\n",
       "    </tr>\n",
       "    <tr>\n",
       "      <th>3</th>\n",
       "      <td>5.0</td>\n",
       "      <td>15.0</td>\n",
       "      <td>0.25</td>\n",
       "      <td>0.75</td>\n",
       "    </tr>\n",
       "    <tr>\n",
       "      <th>4</th>\n",
       "      <td>2.0</td>\n",
       "      <td>17.0</td>\n",
       "      <td>0.10</td>\n",
       "      <td>0.85</td>\n",
       "    </tr>\n",
       "    <tr>\n",
       "      <th>5</th>\n",
       "      <td>3.0</td>\n",
       "      <td>20.0</td>\n",
       "      <td>0.15</td>\n",
       "      <td>1.00</td>\n",
       "    </tr>\n",
       "  </tbody>\n",
       "</table>\n",
       "</div>"
      ],
      "text/plain": [
       "    AF    CF    RF   CRF\n",
       "1  4.0   4.0  0.20  0.20\n",
       "2  6.0  10.0  0.30  0.50\n",
       "3  5.0  15.0  0.25  0.75\n",
       "4  2.0  17.0  0.10  0.85\n",
       "5  3.0  20.0  0.15  1.00"
      ]
     },
     "execution_count": 23,
     "metadata": {},
     "output_type": "execute_result"
    }
   ],
   "source": [
    "data = np.array(\n",
    "    [\n",
    "        [4, 6, 5, 2, 3,],\n",
    "        [4, 10, 15, 17, 20,],\n",
    "        [0.2, 0.3, 0.25, 0.1, 0.15,],\n",
    "        [0.2, 0.5, 0.75, 0.85, 1,],\n",
    "    ]\n",
    ")\n",
    "column = [1, 2, 3, 4, 5]\n",
    "row = ['AF', 'CF', 'RF', 'CRF',]\n",
    "example_6 = pd.DataFrame(data=data, index=row, columns=column)\n",
    "example_6.T"
   ]
  },
  {
   "cell_type": "code",
   "execution_count": 3,
   "id": "eb56d5a2",
   "metadata": {},
   "outputs": [
    {
     "data": {
      "text/html": [
       "<div>\n",
       "<style scoped>\n",
       "    .dataframe tbody tr th:only-of-type {\n",
       "        vertical-align: middle;\n",
       "    }\n",
       "\n",
       "    .dataframe tbody tr th {\n",
       "        vertical-align: top;\n",
       "    }\n",
       "\n",
       "    .dataframe thead th {\n",
       "        text-align: right;\n",
       "    }\n",
       "</style>\n",
       "<table border=\"1\" class=\"dataframe\">\n",
       "  <thead>\n",
       "    <tr style=\"text-align: right;\">\n",
       "      <th></th>\n",
       "      <th>type</th>\n",
       "      <th>frequency</th>\n",
       "    </tr>\n",
       "  </thead>\n",
       "  <tbody>\n",
       "    <tr>\n",
       "      <th>2</th>\n",
       "      <td>1</td>\n",
       "      <td>4</td>\n",
       "    </tr>\n",
       "    <tr>\n",
       "      <th>0</th>\n",
       "      <td>2</td>\n",
       "      <td>6</td>\n",
       "    </tr>\n",
       "    <tr>\n",
       "      <th>1</th>\n",
       "      <td>3</td>\n",
       "      <td>5</td>\n",
       "    </tr>\n",
       "    <tr>\n",
       "      <th>4</th>\n",
       "      <td>4</td>\n",
       "      <td>2</td>\n",
       "    </tr>\n",
       "    <tr>\n",
       "      <th>3</th>\n",
       "      <td>5</td>\n",
       "      <td>3</td>\n",
       "    </tr>\n",
       "  </tbody>\n",
       "</table>\n",
       "</div>"
      ],
      "text/plain": [
       "   type  frequency\n",
       "2     1          4\n",
       "0     2          6\n",
       "1     3          5\n",
       "4     4          2\n",
       "3     5          3"
      ]
     },
     "execution_count": 3,
     "metadata": {},
     "output_type": "execute_result"
    }
   ],
   "source": [
    "# use value_counts method for create frequency distribution\n",
    "\n",
    "data = np.array(\n",
    "    [3, 5, 2, 1, 1, 2, 2, 3, 2, 3, 4, 1, 1, 2, 2, 5, 5, 4, 3, 3],\n",
    ")\n",
    "data_frame = pd.DataFrame(data=data, index=None)\n",
    "data_frame.describe()\n",
    "data_frame.value_counts()\n",
    "\n",
    "data = {\n",
    "    'type': [2, 3, 1, 5, 4],\n",
    "    'frequency': [i for i in data_frame.value_counts()],\n",
    "}\n",
    "\n",
    "data_frame_2 = pd.DataFrame(data=data)\n",
    "data_frame_2.sort_values(by=['type'], inplace=True)\n",
    "data_frame_2"
   ]
  },
  {
   "cell_type": "code",
   "execution_count": 8,
   "id": "6b8d3b28",
   "metadata": {},
   "outputs": [
    {
     "data": {
      "text/plain": [
       "<AxesSubplot:xlabel='type'>"
      ]
     },
     "execution_count": 8,
     "metadata": {},
     "output_type": "execute_result"
    },
    {
     "data": {
      "image/png": "[encoded data removed]",
      "text/plain": [
       "<Figure size 432x288 with 1 Axes>"
      ]
     },
     "metadata": {
      "needs_background": "light"
     },
     "output_type": "display_data"
    }
   ],
   "source": [
    "data_frame_2.plot(x='type', y='frequency', kind='bar')"
   ]
  },
  {
   "cell_type": "code",
   "execution_count": 13,
   "id": "10689ca3",
   "metadata": {},
   "outputs": [
    {
     "data": {
      "text/plain": [
       "<AxesSubplot:ylabel='frequency'>"
      ]
     },
     "execution_count": 13,
     "metadata": {},
     "output_type": "execute_result"
    },
    {
     "data": {
      "image/png": "[encoded data removed]",
      "text/plain": [
       "<Figure size 432x288 with 1 Axes>"
      ]
     },
     "metadata": {},
     "output_type": "display_data"
    }
   ],
   "source": [
    "data_frame_2.plot(x='type', y='frequency', kind='pie')"
   ]
  },
  {
   "cell_type": "code",
   "execution_count": 15,
   "id": "5f2d932a",
   "metadata": {},
   "outputs": [
    {
     "data": {
      "text/plain": [
       "<AxesSubplot:ylabel='Frequency'>"
      ]
     },
     "execution_count": 15,
     "metadata": {},
     "output_type": "execute_result"
    },
    {
     "data": {
      "image/png": "[encoded data removed]",
      "text/plain": [
       "<Figure size 432x288 with 1 Axes>"
      ]
     },
     "metadata": {
      "needs_background": "light"
     },
     "output_type": "display_data"
    }
   ],
   "source": [
    "data_frame_2.plot(x='type', y='frequency', kind='hist')"
   ]
  },
  {
   "cell_type": "code",
   "execution_count": 17,
   "id": "5aecf6d3",
   "metadata": {},
   "outputs": [
    {
     "data": {
      "text/plain": [
       "<AxesSubplot:ylabel='type'>"
      ]
     },
     "execution_count": 17,
     "metadata": {},
     "output_type": "execute_result"
    },
    {
     "data": {
      "image/png": "[encoded data removed]",
      "text/plain": [
       "<Figure size 432x288 with 1 Axes>"
      ]
     },
     "metadata": {
      "needs_background": "light"
     },
     "output_type": "display_data"
    }
   ],
   "source": [
    "data_frame_2.plot(x='type', y='frequency', kind='barh')"
   ]
  },
  {
   "cell_type": "markdown",
   "id": "4454b1a4",
   "metadata": {},
   "source": [
    "# Chapter 2, example 7"
   ]
  },
  {
   "cell_type": "code",
   "execution_count": 61,
   "id": "89e3215b",
   "metadata": {},
   "outputs": [
    {
     "data": {
      "text/html": [
       "<div>\n",
       "<style scoped>\n",
       "    .dataframe tbody tr th:only-of-type {\n",
       "        vertical-align: middle;\n",
       "    }\n",
       "\n",
       "    .dataframe tbody tr th {\n",
       "        vertical-align: top;\n",
       "    }\n",
       "\n",
       "    .dataframe thead th {\n",
       "        text-align: right;\n",
       "    }\n",
       "</style>\n",
       "<table border=\"1\" class=\"dataframe\">\n",
       "  <thead>\n",
       "    <tr style=\"text-align: right;\">\n",
       "      <th></th>\n",
       "      <th>AF</th>\n",
       "      <th>CF</th>\n",
       "      <th>RF</th>\n",
       "      <th>CRF</th>\n",
       "    </tr>\n",
       "  </thead>\n",
       "  <tbody>\n",
       "    <tr>\n",
       "      <th>14-16</th>\n",
       "      <td>3.0</td>\n",
       "      <td>3.0</td>\n",
       "      <td>0.06</td>\n",
       "      <td>0.06</td>\n",
       "    </tr>\n",
       "    <tr>\n",
       "      <th>16-18</th>\n",
       "      <td>4.0</td>\n",
       "      <td>7.0</td>\n",
       "      <td>0.08</td>\n",
       "      <td>0.14</td>\n",
       "    </tr>\n",
       "    <tr>\n",
       "      <th>18-20</th>\n",
       "      <td>4.0</td>\n",
       "      <td>11.0</td>\n",
       "      <td>0.08</td>\n",
       "      <td>0.22</td>\n",
       "    </tr>\n",
       "    <tr>\n",
       "      <th>20-22</th>\n",
       "      <td>8.0</td>\n",
       "      <td>19.0</td>\n",
       "      <td>0.16</td>\n",
       "      <td>0.38</td>\n",
       "    </tr>\n",
       "    <tr>\n",
       "      <th>22-24</th>\n",
       "      <td>14.0</td>\n",
       "      <td>33.0</td>\n",
       "      <td>0.28</td>\n",
       "      <td>0.66</td>\n",
       "    </tr>\n",
       "    <tr>\n",
       "      <th>24-26</th>\n",
       "      <td>13.0</td>\n",
       "      <td>46.0</td>\n",
       "      <td>0.26</td>\n",
       "      <td>0.92</td>\n",
       "    </tr>\n",
       "    <tr>\n",
       "      <th>26-28</th>\n",
       "      <td>4.0</td>\n",
       "      <td>50.0</td>\n",
       "      <td>0.08</td>\n",
       "      <td>1.00</td>\n",
       "    </tr>\n",
       "  </tbody>\n",
       "</table>\n",
       "</div>"
      ],
      "text/plain": [
       "         AF    CF    RF   CRF\n",
       "14-16   3.0   3.0  0.06  0.06\n",
       "16-18   4.0   7.0  0.08  0.14\n",
       "18-20   4.0  11.0  0.08  0.22\n",
       "20-22   8.0  19.0  0.16  0.38\n",
       "22-24  14.0  33.0  0.28  0.66\n",
       "24-26  13.0  46.0  0.26  0.92\n",
       "26-28   4.0  50.0  0.08  1.00"
      ]
     },
     "execution_count": 61,
     "metadata": {},
     "output_type": "execute_result"
    }
   ],
   "source": [
    "data = np.array(\n",
    "    [\n",
    "        [3, 4, 4, 8, 14, 13, 4,],\n",
    "        [3, 7, 11, 19, 33, 46, 50,],\n",
    "        [0.06, 0.08, 0.08, 0.16, 0.28, 0.26, 0.08,],\n",
    "        [0.06, 0.14, 0.22, 0.38, 0.66, 0.92, 1,],\n",
    "    ]\n",
    ")\n",
    "column = ['14-16', '16-18', '18-20', '20-22', '22-24', '24-26', '26-28',]\n",
    "row = ['AF', 'CF', 'RF', 'CRF',]\n",
    "example_7 = pd.DataFrame(data=data, index=row, columns=column)\n",
    "example_7.T"
   ]
  },
  {
   "cell_type": "code",
   "execution_count": 53,
   "id": "a7d18b9c",
   "metadata": {},
   "outputs": [
    {
     "data": {
      "text/html": [
       "<div>\n",
       "<style scoped>\n",
       "    .dataframe tbody tr th:only-of-type {\n",
       "        vertical-align: middle;\n",
       "    }\n",
       "\n",
       "    .dataframe tbody tr th {\n",
       "        vertical-align: top;\n",
       "    }\n",
       "\n",
       "    .dataframe thead th {\n",
       "        text-align: right;\n",
       "    }\n",
       "</style>\n",
       "<table border=\"1\" class=\"dataframe\">\n",
       "  <thead>\n",
       "    <tr style=\"text-align: right;\">\n",
       "      <th></th>\n",
       "      <th>type</th>\n",
       "      <th>frequency</th>\n",
       "    </tr>\n",
       "  </thead>\n",
       "  <tbody>\n",
       "    <tr>\n",
       "      <th>0</th>\n",
       "      <td>14</td>\n",
       "      <td>1</td>\n",
       "    </tr>\n",
       "    <tr>\n",
       "      <th>1</th>\n",
       "      <td>15</td>\n",
       "      <td>1</td>\n",
       "    </tr>\n",
       "    <tr>\n",
       "      <th>2</th>\n",
       "      <td>16</td>\n",
       "      <td>1</td>\n",
       "    </tr>\n",
       "    <tr>\n",
       "      <th>3</th>\n",
       "      <td>17</td>\n",
       "      <td>2</td>\n",
       "    </tr>\n",
       "    <tr>\n",
       "      <th>4</th>\n",
       "      <td>18</td>\n",
       "      <td>2</td>\n",
       "    </tr>\n",
       "    <tr>\n",
       "      <th>5</th>\n",
       "      <td>19</td>\n",
       "      <td>2</td>\n",
       "    </tr>\n",
       "    <tr>\n",
       "      <th>6</th>\n",
       "      <td>20</td>\n",
       "      <td>2</td>\n",
       "    </tr>\n",
       "    <tr>\n",
       "      <th>7</th>\n",
       "      <td>21</td>\n",
       "      <td>3</td>\n",
       "    </tr>\n",
       "    <tr>\n",
       "      <th>8</th>\n",
       "      <td>22</td>\n",
       "      <td>5</td>\n",
       "    </tr>\n",
       "    <tr>\n",
       "      <th>9</th>\n",
       "      <td>23</td>\n",
       "      <td>7</td>\n",
       "    </tr>\n",
       "    <tr>\n",
       "      <th>10</th>\n",
       "      <td>24</td>\n",
       "      <td>7</td>\n",
       "    </tr>\n",
       "    <tr>\n",
       "      <th>11</th>\n",
       "      <td>25</td>\n",
       "      <td>9</td>\n",
       "    </tr>\n",
       "    <tr>\n",
       "      <th>12</th>\n",
       "      <td>26</td>\n",
       "      <td>4</td>\n",
       "    </tr>\n",
       "    <tr>\n",
       "      <th>13</th>\n",
       "      <td>27</td>\n",
       "      <td>3</td>\n",
       "    </tr>\n",
       "    <tr>\n",
       "      <th>14</th>\n",
       "      <td>28</td>\n",
       "      <td>1</td>\n",
       "    </tr>\n",
       "  </tbody>\n",
       "</table>\n",
       "</div>"
      ],
      "text/plain": [
       "    type  frequency\n",
       "0     14          1\n",
       "1     15          1\n",
       "2     16          1\n",
       "3     17          2\n",
       "4     18          2\n",
       "5     19          2\n",
       "6     20          2\n",
       "7     21          3\n",
       "8     22          5\n",
       "9     23          7\n",
       "10    24          7\n",
       "11    25          9\n",
       "12    26          4\n",
       "13    27          3\n",
       "14    28          1"
      ]
     },
     "execution_count": 53,
     "metadata": {},
     "output_type": "execute_result"
    }
   ],
   "source": [
    "# use value_counts method for create frequency distribution\n",
    "\n",
    "data = np.array(\n",
    "    [\n",
    "        25, 26, 25, 25, 24, 23, 23, 19, 25, 23, 19, 24, 27, 21,\n",
    "        23, 24, 27, 26, 14, 25, 17, 16, 24, 26, 24, 25, 22, 22,\n",
    "        20, 22, 18, 21, 21, 25, 23, 23, 24, 28, 25, 26, 24, 27,\n",
    "        20, 22, 25, 22, 17, 15, 18, 23,\n",
    "    ], \n",
    ")\n",
    "data_frame = pd.DataFrame(data=data, index=None)\n",
    "data_frame.describe()\n",
    "data_frame.value_counts()\n",
    "\n",
    "data = {\n",
    "    'type': [25, 23, 24, 22, 26, 21, 27, 17, 18, 19, 20, 14, 15, 16, 28],\n",
    "    'frequency': [i for i in data_frame.value_counts()],\n",
    "}\n",
    "\n",
    "data_frame_2 = pd.DataFrame(data=data)\n",
    "data_frame_2.sort_values(by=['type'], inplace=True)\n",
    "data_frame_2 = pd.read_csv('example-7-.csv')\n",
    "data_frame_2"
   ]
  },
  {
   "cell_type": "code",
   "execution_count": 55,
   "id": "84af8953",
   "metadata": {},
   "outputs": [
    {
     "data": {
      "text/plain": [
       "<AxesSubplot:xlabel='type'>"
      ]
     },
     "execution_count": 55,
     "metadata": {},
     "output_type": "execute_result"
    },
    {
     "data": {
      "image/png": "[encoded data removed]",
      "text/plain": [
       "<Figure size 432x288 with 1 Axes>"
      ]
     },
     "metadata": {
      "needs_background": "light"
     },
     "output_type": "display_data"
    }
   ],
   "source": [
    "data_frame_2.plot(x='type', y='frequency', kind='bar')"
   ]
  },
  {
   "cell_type": "code",
   "execution_count": 56,
   "id": "69b06fe4",
   "metadata": {},
   "outputs": [
    {
     "data": {
      "text/plain": [
       "<AxesSubplot:ylabel='frequency'>"
      ]
     },
     "execution_count": 56,
     "metadata": {},
     "output_type": "execute_result"
    },
    {
     "data": {
      "image/png": "[encoded data removed]",
      "text/plain": [
       "<Figure size 432x288 with 1 Axes>"
      ]
     },
     "metadata": {},
     "output_type": "display_data"
    }
   ],
   "source": [
    "data_frame_2.plot(x='type', y='frequency', kind='pie')"
   ]
  },
  {
   "cell_type": "code",
   "execution_count": 57,
   "id": "8ba03510",
   "metadata": {},
   "outputs": [
    {
     "data": {
      "text/plain": [
       "<AxesSubplot:ylabel='Frequency'>"
      ]
     },
     "execution_count": 57,
     "metadata": {},
     "output_type": "execute_result"
    },
    {
     "data": {
      "image/png": "[encoded data removed]",
      "text/plain": [
       "<Figure size 432x288 with 1 Axes>"
      ]
     },
     "metadata": {
      "needs_background": "light"
     },
     "output_type": "display_data"
    }
   ],
   "source": [
    "data_frame_2.plot(x='type', y='frequency', kind='hist')"
   ]
  },
  {
   "cell_type": "code",
   "execution_count": 58,
   "id": "b9e10ac5",
   "metadata": {},
   "outputs": [
    {
     "data": {
      "text/plain": [
       "<AxesSubplot:ylabel='type'>"
      ]
     },
     "execution_count": 58,
     "metadata": {},
     "output_type": "execute_result"
    },
    {
     "data": {
      "image/png": "[encoded data removed]",
      "text/plain": [
       "<Figure size 432x288 with 1 Axes>"
      ]
     },
     "metadata": {
      "needs_background": "light"
     },
     "output_type": "display_data"
    }
   ],
   "source": [
    "data_frame_2.plot(x='type', y='frequency', kind='barh')"
   ]
  },
  {
   "cell_type": "markdown",
   "id": "e8e90ab1",
   "metadata": {},
   "source": [
    "# Chapter 2, exercise 3"
   ]
  },
  {
   "cell_type": "code",
   "execution_count": 60,
   "id": "ee379d30",
   "metadata": {},
   "outputs": [
    {
     "data": {
      "text/html": [
       "<div>\n",
       "<style scoped>\n",
       "    .dataframe tbody tr th:only-of-type {\n",
       "        vertical-align: middle;\n",
       "    }\n",
       "\n",
       "    .dataframe tbody tr th {\n",
       "        vertical-align: top;\n",
       "    }\n",
       "\n",
       "    .dataframe thead th {\n",
       "        text-align: right;\n",
       "    }\n",
       "</style>\n",
       "<table border=\"1\" class=\"dataframe\">\n",
       "  <thead>\n",
       "    <tr style=\"text-align: right;\">\n",
       "      <th></th>\n",
       "      <th>AF</th>\n",
       "      <th>CF</th>\n",
       "      <th>RF</th>\n",
       "      <th>CRF</th>\n",
       "    </tr>\n",
       "  </thead>\n",
       "  <tbody>\n",
       "    <tr>\n",
       "      <th>12-14</th>\n",
       "      <td>8.0</td>\n",
       "      <td>8.0</td>\n",
       "      <td>0.17</td>\n",
       "      <td>0.17</td>\n",
       "    </tr>\n",
       "    <tr>\n",
       "      <th>14-16</th>\n",
       "      <td>2.0</td>\n",
       "      <td>10.0</td>\n",
       "      <td>0.04</td>\n",
       "      <td>0.21</td>\n",
       "    </tr>\n",
       "    <tr>\n",
       "      <th>16-18</th>\n",
       "      <td>13.0</td>\n",
       "      <td>23.0</td>\n",
       "      <td>0.28</td>\n",
       "      <td>0.49</td>\n",
       "    </tr>\n",
       "    <tr>\n",
       "      <th>18-20</th>\n",
       "      <td>18.0</td>\n",
       "      <td>41.0</td>\n",
       "      <td>0.40</td>\n",
       "      <td>0.89</td>\n",
       "    </tr>\n",
       "    <tr>\n",
       "      <th>20-22</th>\n",
       "      <td>4.0</td>\n",
       "      <td>45.0</td>\n",
       "      <td>0.08</td>\n",
       "      <td>1.00</td>\n",
       "    </tr>\n",
       "  </tbody>\n",
       "</table>\n",
       "</div>"
      ],
      "text/plain": [
       "         AF    CF    RF   CRF\n",
       "12-14   8.0   8.0  0.17  0.17\n",
       "14-16   2.0  10.0  0.04  0.21\n",
       "16-18  13.0  23.0  0.28  0.49\n",
       "18-20  18.0  41.0  0.40  0.89\n",
       "20-22   4.0  45.0  0.08  1.00"
      ]
     },
     "execution_count": 60,
     "metadata": {},
     "output_type": "execute_result"
    }
   ],
   "source": [
    "data = np.array(\n",
    "    [\n",
    "        [8, 2, 13, 18, 4,],\n",
    "        [8, 10, 23, 41, 45,],\n",
    "        [0.17, 0.04, 0.28, 0.4, 0.08,],\n",
    "        [0.17, 0.21, 0.49, 0.89, 1],\n",
    "    ]\n",
    ")\n",
    "column = ['12-14', '14-16', '16-18', '18-20', '20-22',]\n",
    "row = ['AF', 'CF', 'RF', 'CRF',]\n",
    "example_8 = pd.DataFrame(data=data, index=row, columns=column)\n",
    "example_8.T"
   ]
  },
  {
   "cell_type": "code",
   "execution_count": 66,
   "id": "e5be1590",
   "metadata": {},
   "outputs": [
    {
     "data": {
      "text/html": [
       "<div>\n",
       "<style scoped>\n",
       "    .dataframe tbody tr th:only-of-type {\n",
       "        vertical-align: middle;\n",
       "    }\n",
       "\n",
       "    .dataframe tbody tr th {\n",
       "        vertical-align: top;\n",
       "    }\n",
       "\n",
       "    .dataframe thead th {\n",
       "        text-align: right;\n",
       "    }\n",
       "</style>\n",
       "<table border=\"1\" class=\"dataframe\">\n",
       "  <thead>\n",
       "    <tr style=\"text-align: right;\">\n",
       "      <th></th>\n",
       "      <th>type</th>\n",
       "      <th>frequency</th>\n",
       "    </tr>\n",
       "  </thead>\n",
       "  <tbody>\n",
       "    <tr>\n",
       "      <th>0</th>\n",
       "      <td>12</td>\n",
       "      <td>5</td>\n",
       "    </tr>\n",
       "    <tr>\n",
       "      <th>1</th>\n",
       "      <td>13</td>\n",
       "      <td>2</td>\n",
       "    </tr>\n",
       "    <tr>\n",
       "      <th>2</th>\n",
       "      <td>14</td>\n",
       "      <td>1</td>\n",
       "    </tr>\n",
       "    <tr>\n",
       "      <th>3</th>\n",
       "      <td>16</td>\n",
       "      <td>2</td>\n",
       "    </tr>\n",
       "    <tr>\n",
       "      <th>4</th>\n",
       "      <td>17</td>\n",
       "      <td>2</td>\n",
       "    </tr>\n",
       "    <tr>\n",
       "      <th>5</th>\n",
       "      <td>18</td>\n",
       "      <td>11</td>\n",
       "    </tr>\n",
       "    <tr>\n",
       "      <th>6</th>\n",
       "      <td>19</td>\n",
       "      <td>8</td>\n",
       "    </tr>\n",
       "    <tr>\n",
       "      <th>7</th>\n",
       "      <td>20</td>\n",
       "      <td>10</td>\n",
       "    </tr>\n",
       "    <tr>\n",
       "      <th>8</th>\n",
       "      <td>21</td>\n",
       "      <td>3</td>\n",
       "    </tr>\n",
       "    <tr>\n",
       "      <th>9</th>\n",
       "      <td>22</td>\n",
       "      <td>1</td>\n",
       "    </tr>\n",
       "  </tbody>\n",
       "</table>\n",
       "</div>"
      ],
      "text/plain": [
       "   type  frequency\n",
       "0    12          5\n",
       "1    13          2\n",
       "2    14          1\n",
       "3    16          2\n",
       "4    17          2\n",
       "5    18         11\n",
       "6    19          8\n",
       "7    20         10\n",
       "8    21          3\n",
       "9    22          1"
      ]
     },
     "execution_count": 66,
     "metadata": {},
     "output_type": "execute_result"
    }
   ],
   "source": [
    "# use value_counts method for create frequency distribution\n",
    "\n",
    "data = np.array(\n",
    "    [\n",
    "        13, 13, 19, 17, 21, 16, 12, 20, 20, 22, 21, 18, 16, 18,\n",
    "        18, 21, 12, 18, 20, 14, 20, 19, 18, 18, 19, 18, 20, 19,\n",
    "        19, 20, 18, 12, 12, 18, 20, 20, 12, 20, 20, 18, 17, 19,\n",
    "        19, 18, 19,\n",
    "    ], \n",
    ")\n",
    "data_frame = pd.DataFrame(data=data, index=None)\n",
    "data_frame.describe()\n",
    "data_frame.value_counts()\n",
    "\n",
    "data = {\n",
    "    'type': [18, 20, 19, 12, 21, 13, 16, 17, 14, 22,],\n",
    "    'frequency': [i for i in data_frame.value_counts()],\n",
    "}\n",
    "\n",
    "data_frame_2 = pd.DataFrame(data=data)\n",
    "data_frame_2.sort_values(by=['type'], inplace=True)\n",
    "data_frame_2 = pd.read_csv('exercise-3-.csv')\n",
    "data_frame_2"
   ]
  },
  {
   "cell_type": "code",
   "execution_count": 67,
   "id": "9ad54929",
   "metadata": {},
   "outputs": [
    {
     "data": {
      "text/plain": [
       "<AxesSubplot:xlabel='type'>"
      ]
     },
     "execution_count": 67,
     "metadata": {},
     "output_type": "execute_result"
    },
    {
     "data": {
      "image/png": "[encoded data removed]",
      "text/plain": [
       "<Figure size 432x288 with 1 Axes>"
      ]
     },
     "metadata": {
      "needs_background": "light"
     },
     "output_type": "display_data"
    }
   ],
   "source": [
    "data_frame_2.plot(x='type', y='frequency', kind='bar')"
   ]
  },
  {
   "cell_type": "code",
   "execution_count": 68,
   "id": "398ab3cb",
   "metadata": {},
   "outputs": [
    {
     "data": {
      "text/plain": [
       "<AxesSubplot:ylabel='frequency'>"
      ]
     },
     "execution_count": 68,
     "metadata": {},
     "output_type": "execute_result"
    },
    {
     "data": {
      "image/png": "[encoded data removed]",
      "text/plain": [
       "<Figure size 432x288 with 1 Axes>"
      ]
     },
     "metadata": {},
     "output_type": "display_data"
    }
   ],
   "source": [
    "data_frame_2.plot(x='type', y='frequency', kind='pie')"
   ]
  },
  {
   "cell_type": "code",
   "execution_count": 69,
   "id": "7d3ce5e4",
   "metadata": {},
   "outputs": [
    {
     "data": {
      "text/plain": [
       "<AxesSubplot:ylabel='Frequency'>"
      ]
     },
     "execution_count": 69,
     "metadata": {},
     "output_type": "execute_result"
    },
    {
     "data": {
      "image/png": "[encoded data removed]",
      "text/plain": [
       "<Figure size 432x288 with 1 Axes>"
      ]
     },
     "metadata": {
      "needs_background": "light"
     },
     "output_type": "display_data"
    }
   ],
   "source": [
    "data_frame_2.plot(x='type', y='frequency', kind='hist')"
   ]
  },
  {
   "cell_type": "code",
   "execution_count": 70,
   "id": "43e4e873",
   "metadata": {},
   "outputs": [
    {
     "data": {
      "text/plain": [
       "<AxesSubplot:ylabel='type'>"
      ]
     },
     "execution_count": 70,
     "metadata": {},
     "output_type": "execute_result"
    },
    {
     "data": {
      "image/png": "[encoded data removed]",
      "text/plain": [
       "<Figure size 432x288 with 1 Axes>"
      ]
     },
     "metadata": {
      "needs_background": "light"
     },
     "output_type": "display_data"
    }
   ],
   "source": [
    "data_frame_2.plot(x='type', y='frequency', kind='barh')"
   ]
  },
  {
   "cell_type": "markdown",
   "id": "f1125804",
   "metadata": {},
   "source": [
    "# Chapter 2, example 9"
   ]
  },
  {
   "cell_type": "code",
   "execution_count": 97,
   "id": "327f934c",
   "metadata": {},
   "outputs": [
    {
     "data": {
      "text/html": [
       "<div>\n",
       "<style scoped>\n",
       "    .dataframe tbody tr th:only-of-type {\n",
       "        vertical-align: middle;\n",
       "    }\n",
       "\n",
       "    .dataframe tbody tr th {\n",
       "        vertical-align: top;\n",
       "    }\n",
       "\n",
       "    .dataframe thead th {\n",
       "        text-align: right;\n",
       "    }\n",
       "</style>\n",
       "<table border=\"1\" class=\"dataframe\">\n",
       "  <thead>\n",
       "    <tr style=\"text-align: right;\">\n",
       "      <th></th>\n",
       "      <th>frequency</th>\n",
       "    </tr>\n",
       "  </thead>\n",
       "  <tbody>\n",
       "    <tr>\n",
       "      <th>village</th>\n",
       "      <td>21446783</td>\n",
       "    </tr>\n",
       "    <tr>\n",
       "      <th>city</th>\n",
       "      <td>53702886</td>\n",
       "    </tr>\n",
       "  </tbody>\n",
       "</table>\n",
       "</div>"
      ],
      "text/plain": [
       "         frequency\n",
       "village   21446783\n",
       "city      53702886"
      ]
     },
     "execution_count": 97,
     "metadata": {},
     "output_type": "execute_result"
    }
   ],
   "source": [
    "data = {\n",
    "    'village': [21446783],\n",
    "    'city': [53702886],\n",
    "}\n",
    "data_frame = pd.DataFrame(data=data, columns=['village', 'city'])\n",
    "data_frame.rename(index={0: 'frequency'}).T"
   ]
  },
  {
   "cell_type": "code",
   "execution_count": null,
   "id": "93f6a74f",
   "metadata": {},
   "outputs": [],
   "source": []
  }
 ],
 "metadata": {
  "kernelspec": {
   "display_name": "Python 3 (ipykernel)",
   "language": "python",
   "name": "python3"
  },
  "language_info": {
   "codemirror_mode": {
    "name": "ipython",
    "version": 3
   },
   "file_extension": ".py",
   "mimetype": "text/x-python",
   "name": "python",
   "nbconvert_exporter": "python",
   "pygments_lexer": "ipython3",
   "version": "3.10.5"
  }
 },
 "nbformat": 4,
 "nbformat_minor": 5
}
